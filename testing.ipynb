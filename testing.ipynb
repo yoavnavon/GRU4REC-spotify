{
 "cells": [
  {
   "cell_type": "code",
   "execution_count": 5,
   "metadata": {},
   "outputs": [],
   "source": [
    "import tensorflow as tf\n",
    "import numpy as np"
   ]
  },
  {
   "cell_type": "code",
   "execution_count": 3,
   "metadata": {},
   "outputs": [],
   "source": [
    "batch_size = 4\n",
    "n_classes = 5"
   ]
  },
  {
   "cell_type": "code",
   "execution_count": 4,
   "metadata": {},
   "outputs": [
    {
     "data": {
      "text/plain": [
       "(array([[ 0.24367752,  1.70646145,  0.94334228, -0.07368144, -0.28523229],\n",
       "        [ 0.61927867,  0.87952458,  0.20126887,  1.43617454,  0.33950709],\n",
       "        [ 0.81890233, -0.25468515, -0.28454964, -0.86632344,  3.29608533],\n",
       "        [ 0.40979566, -0.51896338,  0.65311239,  2.26200326,  1.12645674]]),\n",
       " array([[0],\n",
       "        [4],\n",
       "        [1],\n",
       "        [3]]))"
      ]
     },
     "execution_count": 4,
     "metadata": {},
     "output_type": "execute_result"
    }
   ],
   "source": [
    "y_pred = tf.constant(np.random.randn(batch_size,n_classes))\n",
    "y_true = tf.constant(np.random.randint(0,n_classes,size=(batch_size,1)))\n",
    "tf.Session().run(y_pred), tf.Session().run(y_true)"
   ]
  },
  {
   "cell_type": "code",
   "execution_count": 28,
   "metadata": {},
   "outputs": [],
   "source": [
    "def softmax_neg(logits):\n",
    "    mask = 1 - tf.eye(batch_size, batch_size, dtype=tf.float64)\n",
    "    neg_scores = mask * logits\n",
    "    diff = neg_scores - tf.reduce_max(neg_scores, axis=1)\n",
    "    exp = tf.math.exp(diff) * mask\n",
    "    softmaxed = exp / tf.reduce_sum(exp, axis=1)\n",
    "    return softmaxed"
   ]
  },
  {
   "cell_type": "code",
   "execution_count": 7,
   "metadata": {},
   "outputs": [
    {
     "data": {
      "text/plain": [
       "0.9090760956347723"
      ]
     },
     "execution_count": 7,
     "metadata": {},
     "output_type": "execute_result"
    }
   ],
   "source": [
    "y_true = tf.reshape(y_true,[-1])\n",
    "gather = tf.gather(y_pred,y_true, axis=1) # get positive and negative scores\n",
    "y_softmax = softmax_neg(gather)\n",
    "diag = tf.diag_part(gather) # positive samples\n",
    "diag_exp = tf.expand_dims(diag, axis=0) # expand dim to transpose\n",
    "trans = tf.transpose(diag_exp) \n",
    "diff = trans - gather # diference between positive and all\n",
    "sig = tf.nn.sigmoid(diff)\n",
    "loss = tf.reduce_mean(-tf.log(sig))\n",
    "tf.Session().run(loss)"
   ]
  },
  {
   "cell_type": "code",
   "execution_count": 29,
   "metadata": {},
   "outputs": [
    {
     "data": {
      "text/plain": [
       "array([[0.00000000e+00, 9.99279502e-02, 2.92638442e-02, 2.92627595e-01],\n",
       "       [4.92953421e-01, 0.00000000e+00, 1.27996253e-02, 1.32445557e+00],\n",
       "       [6.01868119e-01, 3.58949588e+00, 0.00000000e+00, 1.32457095e-01],\n",
       "       [3.99786911e-01, 4.09992331e-01, 3.16112486e-03, 0.00000000e+00]])"
      ]
     },
     "execution_count": 29,
     "metadata": {},
     "output_type": "execute_result"
    }
   ],
   "source": [
    "soft_neg = softmax_neg(gather)\n",
    "tf.Session().run(soft_neg)"
   ]
  },
  {
   "cell_type": "code",
   "execution_count": 41,
   "metadata": {},
   "outputs": [],
   "source": [
    "def bpr_max(y_true, y_pred):\n",
    "    y_true = tf.reshape(y_true,[-1])\n",
    "    gather = tf.gather(y_pred,y_true, axis=1) # get positive and negative scores, gather=yhat\n",
    "    y_softmax = softmax_neg(gather)\n",
    "    diag = tf.diag_part(gather) # positive samples\n",
    "    diag_exp = tf.expand_dims(diag, axis=0) # expand dim to transpose\n",
    "    trans = tf.transpose(diag_exp) \n",
    "    diff = trans - gather\n",
    "    sig = tf.nn.sigmoid(diff) * y_softmax\n",
    "    reg = 0.001 * tf.reduce_sum(((gather**2)*y_softmax), axis=1)\n",
    "    loss = tf.reduce_mean(-tf.log(sig + 1e-24) + reg)\n",
    "    return loss\n",
    "    \n",
    "    "
   ]
  },
  {
   "cell_type": "code",
   "execution_count": 42,
   "metadata": {},
   "outputs": [
    {
     "data": {
      "text/plain": [
       "15.853622751566789"
      ]
     },
     "execution_count": 42,
     "metadata": {},
     "output_type": "execute_result"
    }
   ],
   "source": [
    "tf.Session().run(bpr_max(y_true,y_pred))"
   ]
  },
  {
   "cell_type": "code",
   "execution_count": null,
   "metadata": {},
   "outputs": [],
   "source": []
  }
 ],
 "metadata": {
  "kernelspec": {
   "display_name": "Python 3",
   "language": "python",
   "name": "python3"
  },
  "language_info": {
   "codemirror_mode": {
    "name": "ipython",
    "version": 3
   },
   "file_extension": ".py",
   "mimetype": "text/x-python",
   "name": "python",
   "nbconvert_exporter": "python",
   "pygments_lexer": "ipython3",
   "version": "3.7.4"
  }
 },
 "nbformat": 4,
 "nbformat_minor": 2
}
