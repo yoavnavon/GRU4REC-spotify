{
  "nbformat": 4,
  "nbformat_minor": 0,
  "metadata": {
    "colab": {
      "name": "Spotify GRU4REC example.ipynb",
      "provenance": [],
      "collapsed_sections": [],
      "toc_visible": true,
      "include_colab_link": true
    },
    "kernelspec": {
      "name": "python3",
      "display_name": "Python 3"
    },
    "accelerator": "GPU"
  },
  "cells": [
    {
      "cell_type": "markdown",
      "metadata": {
        "id": "view-in-github",
        "colab_type": "text"
      },
      "source": [
        "<a href=\"https://colab.research.google.com/github/yoavnavon/GRU4REC-spotify/blob/master/Spotify_GRU4REC_example.ipynb\" target=\"_parent\"><img src=\"https://colab.research.google.com/assets/colab-badge.svg\" alt=\"Open In Colab\"/></a>"
      ]
    },
    {
      "cell_type": "code",
      "metadata": {
        "id": "nvXUfnRYV4JQ",
        "colab_type": "code",
        "outputId": "b921ae80-8c0a-4553-e553-0fdb736a3520",
        "colab": {
          "base_uri": "https://localhost:8080/",
          "height": 139
        }
      },
      "source": [
        "!git clone https://github.com/yoavnavon/GRU4REC-spotify.git\n",
        "% cd GRU4REC-spotify"
      ],
      "execution_count": 1,
      "outputs": [
        {
          "output_type": "stream",
          "text": [
            "Cloning into 'GRU4REC-spotify'...\n",
            "remote: Enumerating objects: 60, done.\u001b[K\n",
            "remote: Counting objects: 100% (60/60), done.\u001b[K\n",
            "remote: Compressing objects: 100% (42/42), done.\u001b[K\n",
            "remote: Total 60 (delta 26), reused 44 (delta 13), pack-reused 0\u001b[K\n",
            "Unpacking objects: 100% (60/60), done.\n",
            "/content/GRU4REC-spotify\n"
          ],
          "name": "stdout"
        }
      ]
    },
    {
      "cell_type": "markdown",
      "metadata": {
        "id": "3OM9HZ1QXe88",
        "colab_type": "text"
      },
      "source": [
        "## Download Dataset"
      ]
    },
    {
      "cell_type": "code",
      "metadata": {
        "id": "mlJUIovoVnw0",
        "colab_type": "code",
        "outputId": "179ffe25-9964-4253-9ddf-4706dea3032f",
        "colab": {
          "base_uri": "https://localhost:8080/",
          "height": 245
        }
      },
      "source": [
        "!wget https://recsys-spotify.s3.amazonaws.com/training_subsample_1.tar.gz\n",
        "!tar -xzf training_subsample_1.tar.gz -C data/\n",
        "!mv data/log_3_20180827_000000000000.csv.gz data/training/log_3_20180827_000000000000.csv.gz"
      ],
      "execution_count": 2,
      "outputs": [
        {
          "output_type": "stream",
          "text": [
            "--2019-12-14 01:04:06--  https://recsys-spotify.s3.amazonaws.com/training_subsample_1.tar.gz\n",
            "Resolving recsys-spotify.s3.amazonaws.com (recsys-spotify.s3.amazonaws.com)... 52.216.205.219\n",
            "Connecting to recsys-spotify.s3.amazonaws.com (recsys-spotify.s3.amazonaws.com)|52.216.205.219|:443... connected.\n",
            "HTTP request sent, awaiting response... 200 OK\n",
            "Length: 544881679 (520M) [binary/octet-stream]\n",
            "Saving to: ‘training_subsample_1.tar.gz’\n",
            "\n",
            "training_subsample_ 100%[===================>] 519.64M  14.2MB/s    in 39s     \n",
            "\n",
            "2019-12-14 01:04:46 (13.5 MB/s) - ‘training_subsample_1.tar.gz’ saved [544881679/544881679]\n",
            "\n",
            "tar: Removing leading `/' from member names\n"
          ],
          "name": "stdout"
        }
      ]
    },
    {
      "cell_type": "code",
      "metadata": {
        "id": "640-hbPh17o4",
        "colab_type": "code",
        "outputId": "752d265c-9e00-45ff-c6ea-93845a9be93f",
        "colab": {
          "base_uri": "https://localhost:8080/",
          "height": 228
        }
      },
      "source": [
        "!wget https://os.zhdk.cloud.switch.ch/swift/v1/crowdai-public/spotify-sequential-skip-prediction-challenge/20181120_track_features.tar.gz\n",
        "!tar -xzf 20181120_track_features.tar.gz -C data/"
      ],
      "execution_count": 3,
      "outputs": [
        {
          "output_type": "stream",
          "text": [
            "--2019-12-14 01:04:58--  https://os.zhdk.cloud.switch.ch/swift/v1/crowdai-public/spotify-sequential-skip-prediction-challenge/20181120_track_features.tar.gz\n",
            "Resolving os.zhdk.cloud.switch.ch (os.zhdk.cloud.switch.ch)... 86.119.32.16, 2001:620:5ca1:101::1:125\n",
            "Connecting to os.zhdk.cloud.switch.ch (os.zhdk.cloud.switch.ch)|86.119.32.16|:443... connected.\n",
            "HTTP request sent, awaiting response... 200 OK\n",
            "Length: 971105878 (926M) [application/gzip]\n",
            "Saving to: ‘20181120_track_features.tar.gz’\n",
            "\n",
            "20181120_track_feat 100%[===================>] 926.12M  10.0MB/s    in 1m 40s  \n",
            "\n",
            "2019-12-14 01:06:39 (9.26 MB/s) - ‘20181120_track_features.tar.gz’ saved [971105878/971105878]\n",
            "\n"
          ],
          "name": "stdout"
        }
      ]
    },
    {
      "cell_type": "markdown",
      "metadata": {
        "id": "sSpN9SpEXhik",
        "colab_type": "text"
      },
      "source": [
        "## Preprocess"
      ]
    },
    {
      "cell_type": "code",
      "metadata": {
        "id": "-EstrwN0Vx0k",
        "colab_type": "code",
        "outputId": "41b826b5-a913-4831-a351-5f8b3b969d16",
        "colab": {
          "base_uri": "https://localhost:8080/",
          "height": 86
        }
      },
      "source": [
        "!python preprocess.py"
      ],
      "execution_count": 4,
      "outputs": [
        {
          "output_type": "stream",
          "text": [
            "creating test file...\n",
            "creating item_idxs...\n",
            "100% 1/1 [00:08<00:00,  8.13s/it]\n",
            "creating track feats data...\n"
          ],
          "name": "stdout"
        }
      ]
    },
    {
      "cell_type": "code",
      "metadata": {
        "id": "jGHKYgjNHvfw",
        "colab_type": "code",
        "colab": {
          "base_uri": "https://localhost:8080/",
          "height": 34
        },
        "outputId": "24b97dce-83b3-4ebe-ee77-97275db770c2"
      },
      "source": [
        "!git pull"
      ],
      "execution_count": 6,
      "outputs": [
        {
          "output_type": "stream",
          "text": [
            "Already up to date.\n"
          ],
          "name": "stdout"
        }
      ]
    },
    {
      "cell_type": "markdown",
      "metadata": {
        "id": "UnW5OtryXoxE",
        "colab_type": "text"
      },
      "source": [
        "## Training"
      ]
    },
    {
      "cell_type": "code",
      "metadata": {
        "id": "K7GfnCuR7zy8",
        "colab_type": "code",
        "colab": {
          "base_uri": "https://localhost:8080/",
          "height": 1000
        },
        "outputId": "9c5d3729-45df-4a7c-a231-64eeff8d847a"
      },
      "source": [
        "!python run.py"
      ],
      "execution_count": 7,
      "outputs": [
        {
          "output_type": "stream",
          "text": [
            "Using TensorFlow backend.\n",
            "WARNING:tensorflow:From /content/GRU4REC-spotify/model.py:12: The name tf.ConfigProto is deprecated. Please use tf.compat.v1.ConfigProto instead.\n",
            "\n",
            "WARNING:tensorflow:From /usr/local/lib/python3.6/dist-packages/keras/backend/tensorflow_backend.py:66: The name tf.get_default_graph is deprecated. Please use tf.compat.v1.get_default_graph instead.\n",
            "\n",
            "WARNING:tensorflow:From /usr/local/lib/python3.6/dist-packages/keras/backend/tensorflow_backend.py:541: The name tf.placeholder is deprecated. Please use tf.compat.v1.placeholder instead.\n",
            "\n",
            "WARNING:tensorflow:From /usr/local/lib/python3.6/dist-packages/keras/backend/tensorflow_backend.py:4432: The name tf.random_uniform is deprecated. Please use tf.random.uniform instead.\n",
            "\n",
            "WARNING:tensorflow:From /usr/local/lib/python3.6/dist-packages/keras/backend/tensorflow_backend.py:148: The name tf.placeholder_with_default is deprecated. Please use tf.compat.v1.placeholder_with_default instead.\n",
            "\n",
            "WARNING:tensorflow:From /usr/local/lib/python3.6/dist-packages/keras/backend/tensorflow_backend.py:3733: calling dropout (from tensorflow.python.ops.nn_ops) with keep_prob is deprecated and will be removed in a future version.\n",
            "Instructions for updating:\n",
            "Please use `rate` instead of `keep_prob`. Rate should be set to `rate = 1 - keep_prob`.\n",
            "/content/GRU4REC-spotify/model.py:80: UserWarning: Update your `Model` call to the Keras 2 API: `Model(inputs=Tensor(\"in..., outputs=[<tf.Tenso...)`\n",
            "  model = Model(input=self.input, output=[predictions])\n",
            "WARNING:tensorflow:From /usr/local/lib/python3.6/dist-packages/keras/optimizers.py:793: The name tf.train.Optimizer is deprecated. Please use tf.compat.v1.train.Optimizer instead.\n",
            "\n",
            "WARNING:tensorflow:From /content/GRU4REC-spotify/model.py:46: The name tf.diag_part is deprecated. Please use tf.linalg.tensor_diag_part instead.\n",
            "\n",
            "WARNING:tensorflow:From /content/GRU4REC-spotify/model.py:52: The name tf.log is deprecated. Please use tf.math.log instead.\n",
            "\n",
            "Model: \"model_1\"\n",
            "_________________________________________________________________\n",
            "Layer (type)                 Output Shape              Param #   \n",
            "=================================================================\n",
            "input_1 (InputLayer)         (64, 1, 28)               0         \n",
            "_________________________________________________________________\n",
            "cu_dnngru_1 (CuDNNGRU)       [(64, 100), (64, 100)]    39000     \n",
            "_________________________________________________________________\n",
            "dropout_1 (Dropout)          (64, 100)                 0         \n",
            "_________________________________________________________________\n",
            "dense_1 (Dense)              (64, 360400)              36400400  \n",
            "=================================================================\n",
            "Total params: 36,439,400\n",
            "Trainable params: 36,439,400\n",
            "Non-trainable params: 0\n",
            "_________________________________________________________________\n",
            "  0% 0/3000 [00:00<?, ?it/s]WARNING:tensorflow:From /usr/local/lib/python3.6/dist-packages/keras/backend/tensorflow_backend.py:190: The name tf.get_default_session is deprecated. Please use tf.compat.v1.get_default_session instead.\n",
            "\n",
            "WARNING:tensorflow:From /usr/local/lib/python3.6/dist-packages/keras/backend/tensorflow_backend.py:203: The name tf.Session is deprecated. Please use tf.compat.v1.Session instead.\n",
            "\n",
            "2019-12-14 01:16:18.359275: I tensorflow/core/platform/profile_utils/cpu_utils.cc:94] CPU Frequency: 2200000000 Hz\n",
            "2019-12-14 01:16:18.361258: I tensorflow/compiler/xla/service/service.cc:168] XLA service 0x1bbf2c0 initialized for platform Host (this does not guarantee that XLA will be used). Devices:\n",
            "2019-12-14 01:16:18.361300: I tensorflow/compiler/xla/service/service.cc:176]   StreamExecutor device (0): Host, Default Version\n",
            "2019-12-14 01:16:18.388556: I tensorflow/stream_executor/platform/default/dso_loader.cc:44] Successfully opened dynamic library libcuda.so.1\n",
            "2019-12-14 01:16:18.573945: I tensorflow/stream_executor/cuda/cuda_gpu_executor.cc:983] successful NUMA node read from SysFS had negative value (-1), but there must be at least one NUMA node, so returning NUMA node zero\n",
            "2019-12-14 01:16:18.574619: I tensorflow/compiler/xla/service/service.cc:168] XLA service 0x1bbf100 initialized for platform CUDA (this does not guarantee that XLA will be used). Devices:\n",
            "2019-12-14 01:16:18.574656: I tensorflow/compiler/xla/service/service.cc:176]   StreamExecutor device (0): Tesla T4, Compute Capability 7.5\n",
            "2019-12-14 01:16:18.575042: I tensorflow/stream_executor/cuda/cuda_gpu_executor.cc:983] successful NUMA node read from SysFS had negative value (-1), but there must be at least one NUMA node, so returning NUMA node zero\n",
            "2019-12-14 01:16:18.575550: I tensorflow/core/common_runtime/gpu/gpu_device.cc:1618] Found device 0 with properties: \n",
            "name: Tesla T4 major: 7 minor: 5 memoryClockRate(GHz): 1.59\n",
            "pciBusID: 0000:00:04.0\n",
            "2019-12-14 01:16:18.607469: I tensorflow/stream_executor/platform/default/dso_loader.cc:44] Successfully opened dynamic library libcudart.so.10.1\n",
            "2019-12-14 01:16:18.827604: I tensorflow/stream_executor/platform/default/dso_loader.cc:44] Successfully opened dynamic library libcublas.so.10\n",
            "2019-12-14 01:16:18.958302: I tensorflow/stream_executor/platform/default/dso_loader.cc:44] Successfully opened dynamic library libcufft.so.10\n",
            "2019-12-14 01:16:18.983923: I tensorflow/stream_executor/platform/default/dso_loader.cc:44] Successfully opened dynamic library libcurand.so.10\n",
            "2019-12-14 01:16:19.220459: I tensorflow/stream_executor/platform/default/dso_loader.cc:44] Successfully opened dynamic library libcusolver.so.10\n",
            "2019-12-14 01:16:19.247197: I tensorflow/stream_executor/platform/default/dso_loader.cc:44] Successfully opened dynamic library libcusparse.so.10\n",
            "2019-12-14 01:16:19.692182: I tensorflow/stream_executor/platform/default/dso_loader.cc:44] Successfully opened dynamic library libcudnn.so.7\n",
            "2019-12-14 01:16:19.692359: I tensorflow/stream_executor/cuda/cuda_gpu_executor.cc:983] successful NUMA node read from SysFS had negative value (-1), but there must be at least one NUMA node, so returning NUMA node zero\n",
            "2019-12-14 01:16:19.693001: I tensorflow/stream_executor/cuda/cuda_gpu_executor.cc:983] successful NUMA node read from SysFS had negative value (-1), but there must be at least one NUMA node, so returning NUMA node zero\n",
            "2019-12-14 01:16:19.693485: I tensorflow/core/common_runtime/gpu/gpu_device.cc:1746] Adding visible gpu devices: 0\n",
            "2019-12-14 01:16:19.696891: I tensorflow/stream_executor/platform/default/dso_loader.cc:44] Successfully opened dynamic library libcudart.so.10.1\n",
            "2019-12-14 01:16:19.698086: I tensorflow/core/common_runtime/gpu/gpu_device.cc:1159] Device interconnect StreamExecutor with strength 1 edge matrix:\n",
            "2019-12-14 01:16:19.698115: I tensorflow/core/common_runtime/gpu/gpu_device.cc:1165]      0 \n",
            "2019-12-14 01:16:19.698126: I tensorflow/core/common_runtime/gpu/gpu_device.cc:1178] 0:   N \n",
            "2019-12-14 01:16:19.700381: I tensorflow/stream_executor/cuda/cuda_gpu_executor.cc:983] successful NUMA node read from SysFS had negative value (-1), but there must be at least one NUMA node, so returning NUMA node zero\n",
            "2019-12-14 01:16:19.700948: I tensorflow/stream_executor/cuda/cuda_gpu_executor.cc:983] successful NUMA node read from SysFS had negative value (-1), but there must be at least one NUMA node, so returning NUMA node zero\n",
            "2019-12-14 01:16:19.701465: W tensorflow/core/common_runtime/gpu/gpu_bfc_allocator.cc:39] Overriding allow_growth setting because the TF_FORCE_GPU_ALLOW_GROWTH environment variable is set. Original config value was 0.\n",
            "2019-12-14 01:16:19.701500: I tensorflow/core/common_runtime/gpu/gpu_device.cc:1304] Created TensorFlow device (/job:localhost/replica:0/task:0/device:GPU:0 with 14221 MB memory) -> physical GPU (device: 0, name: Tesla T4, pci bus id: 0000:00:04.0, compute capability: 7.5)\n",
            "WARNING:tensorflow:From /usr/local/lib/python3.6/dist-packages/keras/backend/tensorflow_backend.py:207: The name tf.global_variables is deprecated. Please use tf.compat.v1.global_variables instead.\n",
            "\n",
            "WARNING:tensorflow:From /usr/local/lib/python3.6/dist-packages/keras/backend/tensorflow_backend.py:216: The name tf.is_variable_initialized is deprecated. Please use tf.compat.v1.is_variable_initialized instead.\n",
            "\n",
            "WARNING:tensorflow:From /usr/local/lib/python3.6/dist-packages/keras/backend/tensorflow_backend.py:223: The name tf.variables_initializer is deprecated. Please use tf.compat.v1.variables_initializer instead.\n",
            "\n",
            "WARNING:tensorflow:From /usr/local/lib/python3.6/dist-packages/tensorflow_core/python/ops/math_grad.py:1375: where (from tensorflow.python.ops.array_ops) is deprecated and will be removed in a future version.\n",
            "Instructions for updating:\n",
            "Use tf.where in 2.0, which has the same broadcast rule as np.where\n",
            "WARNING:tensorflow:From /usr/local/lib/python3.6/dist-packages/keras/backend/tensorflow_backend.py:1033: The name tf.assign_add is deprecated. Please use tf.compat.v1.assign_add instead.\n",
            "\n",
            "WARNING:tensorflow:From /usr/local/lib/python3.6/dist-packages/keras/backend/tensorflow_backend.py:1020: The name tf.assign is deprecated. Please use tf.compat.v1.assign instead.\n",
            "\n",
            "2019-12-14 01:16:23.176288: I tensorflow/stream_executor/platform/default/dso_loader.cc:44] Successfully opened dynamic library libcublas.so.10\n",
            "2019-12-14 01:16:23.904355: I tensorflow/stream_executor/platform/default/dso_loader.cc:44] Successfully opened dynamic library libcudnn.so.7\n",
            "Epoch 1. Batch 3000. Loss: 5.51243: 100% 2999/3000 [02:05<00:00, 28.32it/s]\n",
            "Evaluating Model\n",
            "Epoch 1. Batch 3000. Loss: 5.51243: 100% 3000/3000 [02:20<00:00, 28.32it/s]Traceback (most recent call last):\n",
            "  File \"run.py\", line 28, in <module>\n",
            "    train_model(args)\n",
            "  File \"/content/GRU4REC-spotify/train.py\", line 128, in train_model\n",
            "    rec, mrr = get_metrics(model_to_train.model, test_loader, args)\n",
            "  File \"/content/GRU4REC-spotify/train.py\", line 38, in get_metrics\n",
            "    pred = model.predict(feat, batch_size=batch_size)\n",
            "  File \"/usr/local/lib/python3.6/dist-packages/keras/engine/training.py\", line 1401, in predict\n",
            "    callbacks=callbacks)\n",
            "  File \"/usr/local/lib/python3.6/dist-packages/keras/engine/training_arrays.py\", line 332, in predict_loop\n",
            "    batch_outs = f(ins_batch)\n",
            "  File \"/usr/local/lib/python3.6/dist-packages/keras/backend/tensorflow_backend.py\", line 2979, in __call__\n",
            "    return self._call(inputs)\n",
            "  File \"/usr/local/lib/python3.6/dist-packages/keras/backend/tensorflow_backend.py\", line 2937, in _call\n",
            "    fetched = self._callable_fn(*array_vals)\n",
            "  File \"/usr/local/lib/python3.6/dist-packages/tensorflow_core/python/client/session.py\", line 1472, in __call__\n",
            "    run_metadata_ptr)\n",
            "KeyboardInterrupt\n",
            "Epoch 1. Batch 3000. Loss: 5.51243: 100% 3000/3000 [03:21<00:00, 14.88it/s]\n"
          ],
          "name": "stdout"
        }
      ]
    },
    {
      "cell_type": "code",
      "metadata": {
        "id": "DylYsZnjYRdw",
        "colab_type": "code",
        "colab": {}
      },
      "source": [
        ""
      ],
      "execution_count": 0,
      "outputs": []
    },
    {
      "cell_type": "code",
      "metadata": {
        "id": "0l9eCxgLR6ps",
        "colab_type": "code",
        "colab": {}
      },
      "source": [
        ""
      ],
      "execution_count": 0,
      "outputs": []
    }
  ]
}